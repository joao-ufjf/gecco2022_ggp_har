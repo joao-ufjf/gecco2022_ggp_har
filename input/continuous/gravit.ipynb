{
 "cells": [
  {
   "cell_type": "code",
   "execution_count": 36,
   "id": "aboriginal-application",
   "metadata": {},
   "outputs": [],
   "source": [
    "import numpy as np"
   ]
  },
  {
   "cell_type": "code",
   "execution_count": 37,
   "id": "athletic-shelf",
   "metadata": {},
   "outputs": [],
   "source": [
    "def realf(M, m, r):\n",
    "    return (3 * M)"
   ]
  },
  {
   "cell_type": "code",
   "execution_count": 41,
   "id": "western-heritage",
   "metadata": {},
   "outputs": [],
   "source": [
    "def printf(f):\n",
    "    err = 0\n",
    "    n = 0\n",
    "    for M in np.arange(1, 3, 1):\n",
    "        for m in np.arange(1, 6, 1):\n",
    "            for r in np.arange(1, 2, 1):\n",
    "#                 i = M * 10**30               \n",
    "#                 j = m * 10**24\n",
    "#                 k = r * 10**8\n",
    "                i = M\n",
    "                j = m\n",
    "                k = r\n",
    "                \n",
    "                print(i, j, k, realf(i, j, k))\n",
    "                n = n + 1\n",
    "    \n",
    "    for i in range(0, n):\n",
    "        print(i, end = \" \")"
   ]
  },
  {
   "cell_type": "code",
   "execution_count": 42,
   "id": "seven-wheat",
   "metadata": {},
   "outputs": [],
   "source": [
    "def verify(f):\n",
    "    err = 0\n",
    "    n = 0\n",
    "    for M in np.arange(1, 2, 1):\n",
    "        for m in np.arange(1, 6, 1):\n",
    "            for r in np.arange(1, 2, 1):\n",
    "                i = M\n",
    "                j = m\n",
    "                k = r\n",
    "                \n",
    "                print(i, j, k, realf(i, j, k), f(i, j, k))\n",
    "                n = n + 1\n",
    "                err = (realf(i, j, k) - f(i, j, k))**2\n",
    "            \n",
    "    print(err/n, n)\n",
    "    \n",
    "    for i in range(0, n):\n",
    "        print(i, end = \" \")"
   ]
  },
  {
   "cell_type": "code",
   "execution_count": 43,
   "id": "impressed-evidence",
   "metadata": {},
   "outputs": [
    {
     "name": "stdout",
     "output_type": "stream",
     "text": [
      "1000000000000000000000000000000 1000000000000000000000000 100000000 3000000000000000000000000000000\n",
      "1000000000000000000000000000000 2000000000000000000000000 100000000 3000000000000000000000000000000\n",
      "1000000000000000000000000000000 3000000000000000000000000 100000000 3000000000000000000000000000000\n",
      "1000000000000000000000000000000 4000000000000000000000000 100000000 3000000000000000000000000000000\n",
      "1000000000000000000000000000000 5000000000000000000000000 100000000 3000000000000000000000000000000\n",
      "2000000000000000000000000000000 1000000000000000000000000 100000000 6000000000000000000000000000000\n",
      "2000000000000000000000000000000 2000000000000000000000000 100000000 6000000000000000000000000000000\n",
      "2000000000000000000000000000000 3000000000000000000000000 100000000 6000000000000000000000000000000\n",
      "2000000000000000000000000000000 4000000000000000000000000 100000000 6000000000000000000000000000000\n",
      "2000000000000000000000000000000 5000000000000000000000000 100000000 6000000000000000000000000000000\n",
      "0 1 2 3 4 5 6 7 8 9 "
     ]
    }
   ],
   "source": [
    "printf(realf)"
   ]
  },
  {
   "cell_type": "code",
   "execution_count": null,
   "id": "unsigned-america",
   "metadata": {},
   "outputs": [],
   "source": []
  },
  {
   "cell_type": "code",
   "execution_count": null,
   "id": "moral-hopkins",
   "metadata": {},
   "outputs": [],
   "source": []
  }
 ],
 "metadata": {
  "kernelspec": {
   "display_name": "Python 3",
   "language": "python",
   "name": "python3"
  },
  "language_info": {
   "codemirror_mode": {
    "name": "ipython",
    "version": 3
   },
   "file_extension": ".py",
   "mimetype": "text/x-python",
   "name": "python",
   "nbconvert_exporter": "python",
   "pygments_lexer": "ipython3",
   "version": "3.8.10"
  }
 },
 "nbformat": 4,
 "nbformat_minor": 5
}

{
 "cells": [
  {
   "cell_type": "code",
   "execution_count": 9,
   "id": "lonely-conflict",
   "metadata": {},
   "outputs": [],
   "source": [
    "def realf(x, y):\n",
    "    return 3*x**3 - 2*y**2"
   ]
  },
  {
   "cell_type": "code",
   "execution_count": 13,
   "id": "considered-permit",
   "metadata": {},
   "outputs": [],
   "source": [
    "def verify(f):\n",
    "    err = 0\n",
    "    n = 0\n",
    "    for i in range(0, 10, 2):\n",
    "        for j in range (0, 10, 2):\n",
    "            print(i, j, realf(i, j), f(i, j))\n",
    "            n = n + 1\n",
    "            err = (realf(i, j) - f(i, j))**2\n",
    "            \n",
    "    print(err/n)\n",
    "            "
   ]
  },
  {
   "cell_type": "code",
   "execution_count": 14,
   "id": "constitutional-composer",
   "metadata": {},
   "outputs": [
    {
     "name": "stdout",
     "output_type": "stream",
     "text": [
      "0 0 0 0\n",
      "0 2 -8 -8\n",
      "0 4 -32 -32\n",
      "0 6 -72 -72\n",
      "0 8 -128 -128\n",
      "2 0 24 24\n",
      "2 2 16 16\n",
      "2 4 -8 -8\n",
      "2 6 -48 -48\n",
      "2 8 -104 -104\n",
      "4 0 192 192\n",
      "4 2 184 184\n",
      "4 4 160 160\n",
      "4 6 120 120\n",
      "4 8 64 64\n",
      "6 0 648 648\n",
      "6 2 640 640\n",
      "6 4 616 616\n",
      "6 6 576 576\n",
      "6 8 520 520\n",
      "8 0 1536 1536\n",
      "8 2 1528 1528\n",
      "8 4 1504 1504\n",
      "8 6 1464 1464\n",
      "8 8 1408 1408\n",
      "0.0\n"
     ]
    }
   ],
   "source": [
    "verify(f)"
   ]
  },
  {
   "cell_type": "code",
   "execution_count": 15,
   "id": "reserved-portfolio",
   "metadata": {},
   "outputs": [],
   "source": [
    "def f2(x, y):\n",
    "    a = 4.10328\n",
    "    b = -4358.24\n",
    "    return a*x**3 - b*y**2"
   ]
  },
  {
   "cell_type": "code",
   "execution_count": 16,
   "id": "constitutional-preservation",
   "metadata": {},
   "outputs": [
    {
     "name": "stdout",
     "output_type": "stream",
     "text": [
      "0 0 0 0.0\n",
      "0 2 -8 804.0\n",
      "0 4 -32 3216.0\n",
      "0 6 -72 7236.0\n",
      "0 8 -128 12864.0\n",
      "2 0 24 -235.2\n",
      "2 2 16 568.8\n",
      "2 4 -8 2980.8\n",
      "2 6 -48 7000.8\n",
      "2 8 -104 12628.8\n",
      "4 0 192 -1881.6\n",
      "4 2 184 -1077.6\n",
      "4 4 160 1334.4\n",
      "4 6 120 5354.4\n",
      "4 8 64 10982.4\n",
      "6 0 648 -6350.4\n",
      "6 2 640 -5546.4\n",
      "6 4 616 -3134.3999999999996\n",
      "6 6 576 885.6000000000004\n",
      "6 8 520 6513.6\n",
      "8 0 1536 -15052.8\n",
      "8 2 1528 -14248.8\n",
      "8 4 1504 -11836.8\n",
      "8 6 1464 -7816.799999999999\n",
      "8 8 1408 -2188.7999999999993\n",
      "517478.8095999998\n"
     ]
    }
   ],
   "source": [
    "verify(f2)"
   ]
  },
  {
   "cell_type": "code",
   "execution_count": null,
   "id": "novel-front",
   "metadata": {},
   "outputs": [],
   "source": []
  }
 ],
 "metadata": {
  "kernelspec": {
   "display_name": "Python 3",
   "language": "python",
   "name": "python3"
  },
  "language_info": {
   "codemirror_mode": {
    "name": "ipython",
    "version": 3
   },
   "file_extension": ".py",
   "mimetype": "text/x-python",
   "name": "python",
   "nbconvert_exporter": "python",
   "pygments_lexer": "ipython3",
   "version": "3.8.10"
  }
 },
 "nbformat": 4,
 "nbformat_minor": 5
}

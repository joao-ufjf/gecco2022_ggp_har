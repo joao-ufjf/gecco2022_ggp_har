{
 "cells": [
  {
   "cell_type": "code",
   "execution_count": 1,
   "id": "molecular-stevens",
   "metadata": {},
   "outputs": [],
   "source": [
    "def realf(x, y, z):\n",
    "    return ((2*z**3 + z**2 - 13*z + 6) + (y**3 + 2*y**2 - y - 2))/(x**3 + 3*x**2 - 6*x - 18)"
   ]
  },
  {
   "cell_type": "code",
   "execution_count": null,
   "id": "exact-scenario",
   "metadata": {},
   "outputs": [],
   "source": [
    "def verify(f):\n",
    "    err = 0\n",
    "    n = 0\n",
    "    for i in range(0, 10, 2):\n",
    "        for j in range (0, 10, 2):\n",
    "            for k in range (0, 10, 2):\n",
    "                print(i, j, k, realf(i, j, k), f(i, j, k))\n",
    "                n = n + 1\n",
    "                err = (realf(i, j, k) - f(i, j, k))**2\n",
    "            \n",
    "    print(err/n)\n",
    "            "
   ]
  }
 ],
 "metadata": {
  "kernelspec": {
   "display_name": "Python 3",
   "language": "python",
   "name": "python3"
  },
  "language_info": {
   "codemirror_mode": {
    "name": "ipython",
    "version": 3
   },
   "file_extension": ".py",
   "mimetype": "text/x-python",
   "name": "python",
   "nbconvert_exporter": "python",
   "pygments_lexer": "ipython3",
   "version": "3.8.10"
  }
 },
 "nbformat": 4,
 "nbformat_minor": 5
}

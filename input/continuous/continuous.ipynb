{
 "cells": [
  {
   "cell_type": "code",
   "execution_count": 1,
   "id": "solar-lawrence",
   "metadata": {},
   "outputs": [],
   "source": [
    "def realf(x, y):\n",
    "    return 3*x**3 - 2*y**2"
   ]
  },
  {
   "cell_type": "code",
   "execution_count": 2,
   "id": "careful-package",
   "metadata": {},
   "outputs": [],
   "source": [
    "def verify(f):\n",
    "    err = 0\n",
    "    n = 0\n",
    "    for i in range(0, 10, 2):\n",
    "        for j in range (0, 10, 2):\n",
    "            print(i, j, realf(i, j), f(i, j))\n",
    "            n = n + 1\n",
    "            err = (realf(i, j) - f(i, j))**2\n",
    "            \n",
    "    print(err/n)\n",
    "            "
   ]
  },
  {
   "cell_type": "code",
   "execution_count": 6,
   "id": "nervous-priest",
   "metadata": {},
   "outputs": [
    {
     "name": "stdout",
     "output_type": "stream",
     "text": [
      "0 0 0 0\n",
      "0 2 -8 -8\n",
      "0 4 -32 -32\n",
      "0 6 -72 -72\n",
      "0 8 -128 -128\n",
      "2 0 24 24\n",
      "2 2 16 16\n",
      "2 4 -8 -8\n",
      "2 6 -48 -48\n",
      "2 8 -104 -104\n",
      "4 0 192 192\n",
      "4 2 184 184\n",
      "4 4 160 160\n",
      "4 6 120 120\n",
      "4 8 64 64\n",
      "6 0 648 648\n",
      "6 2 640 640\n",
      "6 4 616 616\n",
      "6 6 576 576\n",
      "6 8 520 520\n",
      "8 0 1536 1536\n",
      "8 2 1528 1528\n",
      "8 4 1504 1504\n",
      "8 6 1464 1464\n",
      "8 8 1408 1408\n",
      "0.0\n"
     ]
    }
   ],
   "source": [
    "verify(realf)"
   ]
  },
  {
   "cell_type": "code",
   "execution_count": 7,
   "id": "professional-retrieval",
   "metadata": {},
   "outputs": [],
   "source": [
    "def f2(x, y):\n",
    "    a = 4.10328\n",
    "    b = -4358.24\n",
    "    return a*x**3 - b*y**2"
   ]
  },
  {
   "cell_type": "code",
   "execution_count": 8,
   "id": "fluid-rolling",
   "metadata": {},
   "outputs": [
    {
     "name": "stdout",
     "output_type": "stream",
     "text": [
      "0 0 0 0.0\n",
      "0 2 -8 17432.96\n",
      "0 4 -32 69731.84\n",
      "0 6 -72 156896.63999999998\n",
      "0 8 -128 278927.36\n",
      "2 0 24 32.82624\n",
      "2 2 16 17465.786239999998\n",
      "2 4 -8 69764.66623999999\n",
      "2 6 -48 156929.46623999998\n",
      "2 8 -104 278960.18624\n",
      "4 0 192 262.60992\n",
      "4 2 184 17695.569919999998\n",
      "4 4 160 69994.44992\n",
      "4 6 120 157159.24991999997\n",
      "4 8 64 279189.96992\n",
      "6 0 648 886.3084799999999\n",
      "6 2 640 18319.26848\n",
      "6 4 616 70618.14848\n",
      "6 6 576 157782.94848\n",
      "6 8 520 279813.66848\n",
      "8 0 1536 2100.87936\n",
      "8 2 1528 19533.839359999998\n",
      "8 4 1504 71832.71936\n",
      "8 6 1464 158997.51935999998\n",
      "8 8 1408 281028.23936\n",
      "3127499130.389748\n"
     ]
    }
   ],
   "source": [
    "verify(f2)"
   ]
  },
  {
   "cell_type": "code",
   "execution_count": 9,
   "id": "scientific-earth",
   "metadata": {},
   "outputs": [
    {
     "name": "stdout",
     "output_type": "stream",
     "text": [
      "0 0 0 0.0\n",
      "0 2 -8 17292.72\n",
      "0 4 -32 69170.88\n",
      "0 6 -72 155634.48\n",
      "0 8 -128 276683.52\n",
      "2 0 24 -214.5384\n",
      "2 2 16 17078.1816\n",
      "2 4 -8 68956.3416\n",
      "2 6 -48 155419.94160000002\n",
      "2 8 -104 276468.9816\n",
      "4 0 192 -1716.3072\n",
      "4 2 184 15576.412800000002\n",
      "4 4 160 67454.57280000001\n",
      "4 6 120 153918.1728\n",
      "4 8 64 274967.21280000004\n",
      "6 0 648 -5792.5368\n",
      "6 2 640 11500.183200000001\n",
      "6 4 616 63378.3432\n",
      "6 6 576 149841.9432\n",
      "6 8 520 270890.9832\n",
      "8 0 1536 -13730.4576\n",
      "8 2 1528 3562.2624000000014\n",
      "8 4 1504 55440.4224\n",
      "8 6 1464 141904.02240000002\n",
      "8 8 1408 262953.0624\n",
      "2736232786.632796\n"
     ]
    }
   ],
   "source": [
    "def f3(x, y):\n",
    "    a = -26.8173\n",
    "    b = -4323.18\n",
    "    return a*x**3 - b*y**2\n",
    "\n",
    "verify(f3)"
   ]
  },
  {
   "cell_type": "code",
   "execution_count": null,
   "id": "prompt-pierre",
   "metadata": {},
   "outputs": [],
   "source": [
    "    "
   ]
  }
 ],
 "metadata": {
  "kernelspec": {
   "display_name": "Python 3",
   "language": "python",
   "name": "python3"
  },
  "language_info": {
   "codemirror_mode": {
    "name": "ipython",
    "version": 3
   },
   "file_extension": ".py",
   "mimetype": "text/x-python",
   "name": "python",
   "nbconvert_exporter": "python",
   "pygments_lexer": "ipython3",
   "version": "3.8.10"
  }
 },
 "nbformat": 4,
 "nbformat_minor": 5
}
